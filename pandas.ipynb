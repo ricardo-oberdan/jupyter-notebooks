{
  "nbformat": 4,
  "nbformat_minor": 0,
  "metadata": {
    "colab": {
      "name": "pandas.ipynb",
      "version": "0.3.2",
      "provenance": [],
      "collapsed_sections": [
        "sJqdGQwosfVt",
        "1nN5UCGVvKq9",
        "zdTqy0z68M2S",
        "-il4-vk7ADWD",
        "DIdLVyJnCZGV",
        "Js0dymnxEMVA",
        "iRjSpS_MHpeB",
        "yaJRFyJwWwRG",
        "vEx_w00aYYo3",
        "8rDLWg_YY9iB",
        "wWORGGbFcuvn",
        "pbCSgU-6D5QS"
      ],
      "include_colab_link": true
    },
    "kernelspec": {
      "name": "python3",
      "display_name": "Python 3"
    }
  },
  "cells": [
    {
      "cell_type": "markdown",
      "metadata": {
        "id": "view-in-github",
        "colab_type": "text"
      },
      "source": [
        "<a href=\"https://colab.research.google.com/github/ricardo-oberdan/jupyter-notebooks/blob/master/pandas.ipynb\" target=\"_parent\"><img src=\"https://colab.research.google.com/assets/colab-badge.svg\" alt=\"Open In Colab\"/></a>"
      ]
    },
    {
      "metadata": {
        "id": "BTQmvKT1rNYq",
        "colab_type": "code",
        "colab": {}
      },
      "cell_type": "code",
      "source": [
        "import pandas as pd"
      ],
      "execution_count": 0,
      "outputs": []
    },
    {
      "metadata": {
        "id": "RRIuZ3MerXpY",
        "colab_type": "code",
        "colab": {}
      },
      "cell_type": "code",
      "source": [
        "import numpy as np"
      ],
      "execution_count": 0,
      "outputs": []
    },
    {
      "metadata": {
        "id": "sJqdGQwosfVt",
        "colab_type": "text"
      },
      "cell_type": "markdown",
      "source": [
        "# How to read tabular data file into pandas"
      ]
    },
    {
      "metadata": {
        "id": "FUt-ieerspUB",
        "colab_type": "code",
        "colab": {}
      },
      "cell_type": "code",
      "source": [
        "#pd.read_table('dir/file.csv')\n",
        "orders = pd.read_table('http://bit.ly/chiporders')\n",
        "orders.head()"
      ],
      "execution_count": 0,
      "outputs": []
    },
    {
      "metadata": {
        "id": "olE3CtdOtfyO",
        "colab_type": "code",
        "colab": {}
      },
      "cell_type": "code",
      "source": [
        "user_cols = ['user_id', 'age', 'gender', 'occupation', 'zip_code']\n",
        "users = pd.read_table('http://bit.ly/movieusers', sep='|', header=None, names=user_cols)\n",
        "users.head()"
      ],
      "execution_count": 0,
      "outputs": []
    },
    {
      "metadata": {
        "id": "pwgGNGa9vBSk",
        "colab_type": "code",
        "colab": {}
      },
      "cell_type": "code",
      "source": [
        "users.tail()"
      ],
      "execution_count": 0,
      "outputs": []
    },
    {
      "metadata": {
        "id": "1nN5UCGVvKq9",
        "colab_type": "text"
      },
      "cell_type": "markdown",
      "source": [
        "# How to select a pandas Series from a DataFrame"
      ]
    },
    {
      "metadata": {
        "id": "SmjyEirQvOxg",
        "colab_type": "code",
        "colab": {}
      },
      "cell_type": "code",
      "source": [
        "ufo = pd.read_csv('http://bit.ly/uforeports')"
      ],
      "execution_count": 0,
      "outputs": []
    },
    {
      "metadata": {
        "id": "Om9i1VOc6Vl8",
        "colab_type": "code",
        "colab": {}
      },
      "cell_type": "code",
      "source": [
        "type(ufo)"
      ],
      "execution_count": 0,
      "outputs": []
    },
    {
      "metadata": {
        "id": "axk_wf-g6GaK",
        "colab_type": "code",
        "colab": {}
      },
      "cell_type": "code",
      "source": [
        "ufo.head()"
      ],
      "execution_count": 0,
      "outputs": []
    },
    {
      "metadata": {
        "id": "RRnyXSUy6ZPL",
        "colab_type": "code",
        "colab": {
          "base_uri": "https://localhost:8080/",
          "height": 35
        },
        "outputId": "7fa74a79-fe7b-4df5-fb1f-ff7544694c08"
      },
      "cell_type": "code",
      "source": [
        "type(ufo['City'])\n",
        "# ufo['City']\n",
        "# ufo.City"
      ],
      "execution_count": 21,
      "outputs": [
        {
          "output_type": "execute_result",
          "data": {
            "text/plain": [
              "pandas.core.series.Series"
            ]
          },
          "metadata": {
            "tags": []
          },
          "execution_count": 21
        }
      ]
    },
    {
      "metadata": {
        "id": "6GgzxDOZ6ovW",
        "colab_type": "code",
        "colab": {}
      },
      "cell_type": "code",
      "source": [
        "ufo['Colors Reported']\n",
        "# ufo.Colors Reported não funcionará"
      ],
      "execution_count": 0,
      "outputs": []
    },
    {
      "metadata": {
        "id": "2yjeVI9W7yv5",
        "colab_type": "code",
        "colab": {}
      },
      "cell_type": "code",
      "source": [
        "ufo['Location'] = ufo.City + ', ' + ufo.State\n",
        "# Necessita bracket notation para criar nova coluna no dataframe"
      ],
      "execution_count": 0,
      "outputs": []
    },
    {
      "metadata": {
        "id": "4oXtcNu78HP_",
        "colab_type": "code",
        "colab": {}
      },
      "cell_type": "code",
      "source": [
        "ufo.head()"
      ],
      "execution_count": 0,
      "outputs": []
    },
    {
      "metadata": {
        "id": "zdTqy0z68M2S",
        "colab_type": "text"
      },
      "cell_type": "markdown",
      "source": [
        "# Métodos e Atributos"
      ]
    },
    {
      "metadata": {
        "id": "Kot6-Ex38yVz",
        "colab_type": "code",
        "colab": {}
      },
      "cell_type": "code",
      "source": [
        "movies = pd.read_csv('http://bit.ly/imdbratings')\n",
        "movies.head()"
      ],
      "execution_count": 0,
      "outputs": []
    },
    {
      "metadata": {
        "id": "K-zEUhmd85Vn",
        "colab_type": "code",
        "colab": {}
      },
      "cell_type": "code",
      "source": [
        "movies.describe()"
      ],
      "execution_count": 0,
      "outputs": []
    },
    {
      "metadata": {
        "id": "e8S7F0Gf8_EW",
        "colab_type": "code",
        "colab": {
          "base_uri": "https://localhost:8080/",
          "height": 35
        },
        "outputId": "47942bce-ea4f-4dcd-f3cd-e9035b338b75"
      },
      "cell_type": "code",
      "source": [
        "movies.shape\n",
        "# conta numero de linhas e colunas"
      ],
      "execution_count": 33,
      "outputs": [
        {
          "output_type": "execute_result",
          "data": {
            "text/plain": [
              "(979, 6)"
            ]
          },
          "metadata": {
            "tags": []
          },
          "execution_count": 33
        }
      ]
    },
    {
      "metadata": {
        "id": "MXetPsqw9JYt",
        "colab_type": "code",
        "colab": {}
      },
      "cell_type": "code",
      "source": [
        "movies.dtypes"
      ],
      "execution_count": 0,
      "outputs": []
    },
    {
      "metadata": {
        "id": "GC8BVvfu9NJa",
        "colab_type": "code",
        "colab": {}
      },
      "cell_type": "code",
      "source": [
        "movies.describe(include=['object'])"
      ],
      "execution_count": 0,
      "outputs": []
    },
    {
      "metadata": {
        "id": "-il4-vk7ADWD",
        "colab_type": "text"
      },
      "cell_type": "markdown",
      "source": [
        "# Renomeando colunas no Dataframe"
      ]
    },
    {
      "metadata": {
        "id": "B4hBYvB4AGjk",
        "colab_type": "code",
        "colab": {
          "base_uri": "https://localhost:8080/",
          "height": 35
        },
        "outputId": "a7d08368-0306-4073-f0cf-337db30099e3"
      },
      "cell_type": "code",
      "source": [
        "ufo = pd.read_csv('http://bit.ly/uforeports')\n",
        "ufo.head()"
      ],
      "execution_count": 58,
      "outputs": [
        {
          "output_type": "execute_result",
          "data": {
            "text/plain": [
              "Index(['City', 'Colors Reported', 'Shape Reported', 'State', 'Time'], dtype='object')"
            ]
          },
          "metadata": {
            "tags": []
          },
          "execution_count": 58
        }
      ]
    },
    {
      "metadata": {
        "id": "S2nQpedwAXmQ",
        "colab_type": "code",
        "colab": {
          "base_uri": "https://localhost:8080/",
          "height": 35
        },
        "outputId": "80f32bca-f03c-439d-aa79-77bff6323e8c"
      },
      "cell_type": "code",
      "source": [
        "ufo.columns"
      ],
      "execution_count": 39,
      "outputs": [
        {
          "output_type": "execute_result",
          "data": {
            "text/plain": [
              "Index(['City', 'Colors Reported', 'Shape Reported', 'State', 'Time'], dtype='object')"
            ]
          },
          "metadata": {
            "tags": []
          },
          "execution_count": 39
        }
      ]
    },
    {
      "metadata": {
        "id": "WnLoyXI7AeGM",
        "colab_type": "code",
        "colab": {}
      },
      "cell_type": "code",
      "source": [
        "ufo.rename(columns={'Colors Reported': 'Colors_Reported', 'Shape Reported': 'Shape_Reported'}, inplace=True)\n",
        "# Renomear as colunas que eu quero baseada num dicionário\n",
        "ufo.columns"
      ],
      "execution_count": 0,
      "outputs": []
    },
    {
      "metadata": {
        "id": "YRXbU742A8ee",
        "colab_type": "code",
        "colab": {}
      },
      "cell_type": "code",
      "source": [
        "# renomear todas as colunas baseado num array\n",
        "ufo_cols = ['city', 'colors reported', 'shape reported', 'state', 'time']\n",
        "ufo.columns = ufo_cols\n",
        "ufo.head()"
      ],
      "execution_count": 0,
      "outputs": []
    },
    {
      "metadata": {
        "id": "yL9HQK2nBUPh",
        "colab_type": "code",
        "colab": {}
      },
      "cell_type": "code",
      "source": [
        "# renomeando enquanto importa\n",
        "ufo = pd.read_csv('http://bit.ly/uforeports', names=ufo_cols, header=0)"
      ],
      "execution_count": 0,
      "outputs": []
    },
    {
      "metadata": {
        "id": "Mge-geMZBu2d",
        "colab_type": "code",
        "colab": {}
      },
      "cell_type": "code",
      "source": [
        "ufo.head()"
      ],
      "execution_count": 0,
      "outputs": []
    },
    {
      "metadata": {
        "id": "xTlUWk5SBv3w",
        "colab_type": "code",
        "colab": {}
      },
      "cell_type": "code",
      "source": [
        "ufo.columns = ufo.columns.str.replace(' ', '_')\n",
        "ufo.columns"
      ],
      "execution_count": 0,
      "outputs": []
    },
    {
      "metadata": {
        "id": "DIdLVyJnCZGV",
        "colab_type": "text"
      },
      "cell_type": "markdown",
      "source": [
        "# Removendo colunas do DataFrame"
      ]
    },
    {
      "metadata": {
        "id": "Z5y7izEwCbbQ",
        "colab_type": "code",
        "colab": {}
      },
      "cell_type": "code",
      "source": [
        "ufo = pd.read_csv('http://bit.ly/uforeports')\n",
        "ufo.head()"
      ],
      "execution_count": 0,
      "outputs": []
    },
    {
      "metadata": {
        "id": "KmoJLs3MCoCS",
        "colab_type": "code",
        "colab": {
          "base_uri": "https://localhost:8080/",
          "height": 35
        },
        "outputId": "9948db52-969e-48ab-83a9-78ded22aa555"
      },
      "cell_type": "code",
      "source": [
        "ufo.shape"
      ],
      "execution_count": 51,
      "outputs": [
        {
          "output_type": "execute_result",
          "data": {
            "text/plain": [
              "(18241, 5)"
            ]
          },
          "metadata": {
            "tags": []
          },
          "execution_count": 51
        }
      ]
    },
    {
      "metadata": {
        "id": "xKU_7psHCsqA",
        "colab_type": "code",
        "colab": {}
      },
      "cell_type": "code",
      "source": [
        "ufo.drop('Colors Reported', axis=1, inplace=True)\n",
        "# Axis = 1 é a forma de dizer ao pandas que quero remover uma coluna\n",
        "ufo.head()"
      ],
      "execution_count": 0,
      "outputs": []
    },
    {
      "metadata": {
        "id": "upd30DzRDDs1",
        "colab_type": "code",
        "colab": {}
      },
      "cell_type": "code",
      "source": [
        "# Removendo duas colunas ao mesmo tempo\n",
        "ufo.drop(['City', 'State'], axis=1, inplace=True)\n",
        "ufo.head()"
      ],
      "execution_count": 0,
      "outputs": []
    },
    {
      "metadata": {
        "id": "j6EqGY5TDQlS",
        "colab_type": "code",
        "colab": {}
      },
      "cell_type": "code",
      "source": [
        "# Removendo linha no lugar de coluna, usando axis=0\n",
        "# Neste caso estou removendo as duas primeiras linhas, para isso usa-se o label (index)\n",
        "ufo.drop([0, 1], axis=0, inplace=True)\n",
        "ufo.head()"
      ],
      "execution_count": 0,
      "outputs": []
    },
    {
      "metadata": {
        "id": "Js0dymnxEMVA",
        "colab_type": "text"
      },
      "cell_type": "markdown",
      "source": [
        "# Ordenando no DataFrame ou Series"
      ]
    },
    {
      "metadata": {
        "id": "xDfw1f7WEP8N",
        "colab_type": "code",
        "colab": {}
      },
      "cell_type": "code",
      "source": [
        "movies = pd.read_csv('http://bit.ly/imdbratings')\n",
        "movies.head()"
      ],
      "execution_count": 0,
      "outputs": []
    },
    {
      "metadata": {
        "id": "plX4gx8LE701",
        "colab_type": "code",
        "colab": {}
      },
      "cell_type": "code",
      "source": [
        "movies.title.sort_values()\n",
        "# movies['title'].sort_values()\n",
        "# Retorna um Series apenas com os titulos dos filmes do dataframe importado"
      ],
      "execution_count": 0,
      "outputs": []
    },
    {
      "metadata": {
        "id": "j8tGCURgFNUu",
        "colab_type": "code",
        "colab": {}
      },
      "cell_type": "code",
      "source": [
        "movies['title'].sort_values(ascending=False)"
      ],
      "execution_count": 0,
      "outputs": []
    },
    {
      "metadata": {
        "id": "CyT4k0oJFqg4",
        "colab_type": "code",
        "colab": {}
      },
      "cell_type": "code",
      "source": [
        "# Ordenando o dataframe com base no series\n",
        "# ordenarei o dataframe pelo titulo\n",
        "movies.sort_values('title')"
      ],
      "execution_count": 0,
      "outputs": []
    },
    {
      "metadata": {
        "id": "0uFEJTT5GFW5",
        "colab_type": "code",
        "colab": {}
      },
      "cell_type": "code",
      "source": [
        "movies.sort_values('duration', ascending=False)"
      ],
      "execution_count": 0,
      "outputs": []
    },
    {
      "metadata": {
        "id": "K4Wjj0d6GHp2",
        "colab_type": "code",
        "colab": {}
      },
      "cell_type": "code",
      "source": [
        "# a ordenação em si não muda o dataframe original, pois não fiz inline=true\n",
        "movies.head()"
      ],
      "execution_count": 0,
      "outputs": []
    },
    {
      "metadata": {
        "id": "-dByIBlSGRjv",
        "colab_type": "code",
        "colab": {}
      },
      "cell_type": "code",
      "source": [
        "# ordenando por duas colunas\n",
        "movies.sort_values(['content_rating', 'star_rating'], ascending= [True, False])"
      ],
      "execution_count": 0,
      "outputs": []
    },
    {
      "metadata": {
        "id": "iRjSpS_MHpeB",
        "colab_type": "text"
      },
      "cell_type": "markdown",
      "source": [
        "# Filtrando um DataFrame"
      ]
    },
    {
      "metadata": {
        "id": "wIYTr3koHrPD",
        "colab_type": "code",
        "colab": {}
      },
      "cell_type": "code",
      "source": [
        "movies = pd.read_csv('http://bit.ly/imdbratings')\n",
        "movies.head()"
      ],
      "execution_count": 0,
      "outputs": []
    },
    {
      "metadata": {
        "id": "jZfpEvqDH0PP",
        "colab_type": "code",
        "colab": {}
      },
      "cell_type": "code",
      "source": [
        "movies.shape"
      ],
      "execution_count": 0,
      "outputs": []
    },
    {
      "metadata": {
        "id": "jh9LFP4mH4Uo",
        "colab_type": "code",
        "colab": {}
      },
      "cell_type": "code",
      "source": [
        "# Filtrando apenas se a duração tem pelo menos 200\n",
        "# Primeiro para entender o processo, vamos fazer com loop\n",
        "booleans = []\n",
        "for len in movies.duration:\n",
        "  if len >= 200:\n",
        "    booleans.append(True)\n",
        "  else:\n",
        "    booleans.append(False)\n",
        "#Vendo apenas os 10 primeiros elementos do array    \n",
        "booleans[0:10]  "
      ],
      "execution_count": 0,
      "outputs": []
    },
    {
      "metadata": {
        "id": "6FFW4r5OILVH",
        "colab_type": "code",
        "colab": {}
      },
      "cell_type": "code",
      "source": [
        "# Convertendo esse array num Series\n",
        "is_long = pd.Series(booleans)\n",
        "is_long.head()"
      ],
      "execution_count": 0,
      "outputs": []
    },
    {
      "metadata": {
        "id": "QdGBb4cMJGkD",
        "colab_type": "code",
        "colab": {}
      },
      "cell_type": "code",
      "source": [
        "# Filtrando apenas filmes, baseados nos Trues e Falses do Series\n",
        "movies[is_long]"
      ],
      "execution_count": 0,
      "outputs": []
    },
    {
      "metadata": {
        "id": "Pc-r6pM_JOFy",
        "colab_type": "code",
        "colab": {}
      },
      "cell_type": "code",
      "source": [
        "# Usando o método simplificado\n",
        "movies[movies.duration >= 200]"
      ],
      "execution_count": 0,
      "outputs": []
    },
    {
      "metadata": {
        "id": "4n5AuAnnJiJw",
        "colab_type": "code",
        "colab": {}
      },
      "cell_type": "code",
      "source": [
        "# Alem de filtrar, quero ordenar também\n",
        "movies[movies.duration >= 200].sort_values('duration', ascending=True)"
      ],
      "execution_count": 0,
      "outputs": []
    },
    {
      "metadata": {
        "id": "SZ9eZ43fKZAD",
        "colab_type": "code",
        "colab": {}
      },
      "cell_type": "code",
      "source": [
        "# Pegando apenas os nomes dos filmes com genero Ação\n",
        "movies[movies.genre == 'Action']['title']\n"
      ],
      "execution_count": 0,
      "outputs": []
    },
    {
      "metadata": {
        "id": "zyeft4dqLDdO",
        "colab_type": "code",
        "colab": {}
      },
      "cell_type": "code",
      "source": [
        "# Outra maneira\n",
        "movies.loc[movies.genre == 'Action', 'title']"
      ],
      "execution_count": 0,
      "outputs": []
    },
    {
      "metadata": {
        "id": "_MhRUpzEJxrB",
        "colab_type": "code",
        "colab": {}
      },
      "cell_type": "code",
      "source": [
        "# Filtrando por mais de um critério\n",
        "# Quero os filmes com duração >= 200 E gênero = Drama\n",
        "movies[(movies.duration >= 200) & (movies.genre == 'Drama')]"
      ],
      "execution_count": 0,
      "outputs": []
    },
    {
      "metadata": {
        "id": "enQuja6LLuH6",
        "colab_type": "code",
        "colab": {}
      },
      "cell_type": "code",
      "source": [
        "# Quero os filmes com duração >= 200 OU gênero = Drama\n",
        "movies[(movies.duration >= 200) | (movies.genre == 'Drama')]"
      ],
      "execution_count": 0,
      "outputs": []
    },
    {
      "metadata": {
        "id": "QYd7E0gQNK3g",
        "colab_type": "code",
        "colab": {}
      },
      "cell_type": "code",
      "source": [
        "# Quero todos os filmes com duração maior que 200 com gênero Drama ou Crime\n",
        "movies[(movies.duration >=200) & (movies.genre.isin(['Drama', 'Crime']))]"
      ],
      "execution_count": 0,
      "outputs": []
    },
    {
      "metadata": {
        "id": "yaJRFyJwWwRG",
        "colab_type": "text"
      },
      "cell_type": "markdown",
      "source": [
        "# Importando colunas ou linhas no DataFrame"
      ]
    },
    {
      "metadata": {
        "id": "RAbphL2MXRSh",
        "colab_type": "code",
        "colab": {
          "base_uri": "https://localhost:8080/",
          "height": 35
        },
        "outputId": "23ebfc95-15e4-4727-e330-ccb64c4cc1d5"
      },
      "cell_type": "code",
      "source": [
        "ufo = pd.read_csv('http://bit.ly/uforeports')\n",
        "ufo.columns"
      ],
      "execution_count": 14,
      "outputs": [
        {
          "output_type": "execute_result",
          "data": {
            "text/plain": [
              "Index(['City', 'Colors Reported', 'Shape Reported', 'State', 'Time'], dtype='object')"
            ]
          },
          "metadata": {
            "tags": []
          },
          "execution_count": 14
        }
      ]
    },
    {
      "metadata": {
        "id": "lj6NZuBXW4N1",
        "colab_type": "code",
        "colab": {
          "base_uri": "https://localhost:8080/",
          "height": 35
        },
        "outputId": "1940ee67-cb8d-4423-f3ac-caa4c9e03393"
      },
      "cell_type": "code",
      "source": [
        "# importarei do csv apenas as colunas cidade, estado e tempo\n",
        "ufo = pd.read_csv('http://bit.ly/uforeports', usecols=['City', 'State', 'Time'])\n",
        "ufo.columns"
      ],
      "execution_count": 15,
      "outputs": [
        {
          "output_type": "execute_result",
          "data": {
            "text/plain": [
              "Index(['City', 'State', 'Time'], dtype='object')"
            ]
          },
          "metadata": {
            "tags": []
          },
          "execution_count": 15
        }
      ]
    },
    {
      "metadata": {
        "id": "QFabzFDUXMVo",
        "colab_type": "code",
        "colab": {
          "base_uri": "https://localhost:8080/",
          "height": 35
        },
        "outputId": "e8366edf-5e55-403d-ea66-54f3c05b2166"
      },
      "cell_type": "code",
      "source": [
        "# importarei do csv apenas as colunas cidade, estado e tempo\n",
        "# Agora referenciando as colunas por posição\n",
        "ufo = pd.read_csv('http://bit.ly/uforeports', usecols=[0,3,4])\n",
        "ufo.columns"
      ],
      "execution_count": 16,
      "outputs": [
        {
          "output_type": "execute_result",
          "data": {
            "text/plain": [
              "Index(['City', 'State', 'Time'], dtype='object')"
            ]
          },
          "metadata": {
            "tags": []
          },
          "execution_count": 16
        }
      ]
    },
    {
      "metadata": {
        "id": "pkJHB_hkYHDQ",
        "colab_type": "code",
        "colab": {}
      },
      "cell_type": "code",
      "source": [
        "# Importando apenas as três primeiras linhas\n",
        "ufo = pd.read_csv('http://bit.ly/uforeports', nrows=3)\n",
        "ufo"
      ],
      "execution_count": 0,
      "outputs": []
    },
    {
      "metadata": {
        "id": "Rfyqd7_HZDYm",
        "colab_type": "code",
        "colab": {}
      },
      "cell_type": "code",
      "source": [
        "drinks = pd.read_csv('http://bit.ly/drinksbycountry')\n",
        "drinks.dtypes"
      ],
      "execution_count": 0,
      "outputs": []
    },
    {
      "metadata": {
        "id": "vfmi-VWSZZNK",
        "colab_type": "code",
        "colab": {}
      },
      "cell_type": "code",
      "source": [
        "drinks.head()"
      ],
      "execution_count": 0,
      "outputs": []
    },
    {
      "metadata": {
        "id": "qHlAiBqiZI8x",
        "colab_type": "code",
        "colab": {}
      },
      "cell_type": "code",
      "source": [
        "drinks.select_dtypes(include=[np.number]).dtypes"
      ],
      "execution_count": 0,
      "outputs": []
    },
    {
      "metadata": {
        "id": "vEx_w00aYYo3",
        "colab_type": "text"
      },
      "cell_type": "markdown",
      "source": [
        "# Iterando"
      ]
    },
    {
      "metadata": {
        "id": "U0kOEMqPYbri",
        "colab_type": "code",
        "colab": {}
      },
      "cell_type": "code",
      "source": [
        "ufo = pd.read_csv('http://bit.ly/uforeports', nrows=5)\n",
        "for c in ufo.City:\n",
        "  print(c)"
      ],
      "execution_count": 0,
      "outputs": []
    },
    {
      "metadata": {
        "id": "jObBm1u_YnRy",
        "colab_type": "code",
        "colab": {}
      },
      "cell_type": "code",
      "source": [
        "for index, row in ufo.iterrows():\n",
        "  print(index, row.City, row.State)"
      ],
      "execution_count": 0,
      "outputs": []
    },
    {
      "metadata": {
        "id": "8rDLWg_YY9iB",
        "colab_type": "text"
      },
      "cell_type": "markdown",
      "source": [
        "# Usando parâmetro \"axis\" em pandas"
      ]
    },
    {
      "metadata": {
        "id": "sqFH8SKtaiGb",
        "colab_type": "code",
        "colab": {}
      },
      "cell_type": "code",
      "source": [
        "drinks = pd.read_csv('http://bit.ly/drinksbycountry')\n",
        "drinks.head()"
      ],
      "execution_count": 0,
      "outputs": []
    },
    {
      "metadata": {
        "id": "G9kIvp67at5h",
        "colab_type": "code",
        "colab": {}
      },
      "cell_type": "code",
      "source": [
        "# Remove coluna continent\n",
        "# axis = 1 para remover as colunas\n",
        "# não usei inline então não alterei o DataFrame original\n",
        "drinks.drop('continent', axis=1).head()"
      ],
      "execution_count": 0,
      "outputs": []
    },
    {
      "metadata": {
        "id": "ZFvBYMBZbDIh",
        "colab_type": "code",
        "colab": {}
      },
      "cell_type": "code",
      "source": [
        "# Remove a segunda linha\n",
        "# axis = 0 para remover as linhas\n",
        "# não usei inline então não alterei o DataFrame original\n",
        "drinks.drop(2, axis=0).head()"
      ],
      "execution_count": 0,
      "outputs": []
    },
    {
      "metadata": {
        "id": "UO7lEnSDbsSY",
        "colab_type": "code",
        "colab": {}
      },
      "cell_type": "code",
      "source": [
        "# Pegando média para cada Series do DataFrame\n",
        "drinks.mean()"
      ],
      "execution_count": 0,
      "outputs": []
    },
    {
      "metadata": {
        "id": "AnhYEAMGb5vv",
        "colab_type": "code",
        "colab": {}
      },
      "cell_type": "code",
      "source": [
        "# Mesmo que o anterior, porém deixando explicito que estou pegando a media de cada coluna\n",
        "drinks.mean(axis=0)"
      ],
      "execution_count": 0,
      "outputs": []
    },
    {
      "metadata": {
        "id": "Rm_FscvQckZo",
        "colab_type": "code",
        "colab": {}
      },
      "cell_type": "code",
      "source": [
        "# Ou\n",
        "drinks.mean(axis='index')"
      ],
      "execution_count": 0,
      "outputs": []
    },
    {
      "metadata": {
        "id": "uBuBWrMFcGuW",
        "colab_type": "code",
        "colab": {}
      },
      "cell_type": "code",
      "source": [
        "# agora pegando a media dos valores numericos de cada linha\n",
        "drinks.mean(axis=1).head()"
      ],
      "execution_count": 0,
      "outputs": []
    },
    {
      "metadata": {
        "id": "j5ssiP6-coGf",
        "colab_type": "code",
        "colab": {}
      },
      "cell_type": "code",
      "source": [
        "# ou\n",
        "drinks.mean(axis='columns').head()"
      ],
      "execution_count": 0,
      "outputs": []
    },
    {
      "metadata": {
        "id": "wWORGGbFcuvn",
        "colab_type": "text"
      },
      "cell_type": "markdown",
      "source": [
        "# Usando métodos de Strings"
      ]
    },
    {
      "metadata": {
        "id": "5ZcHsUYSczdK",
        "colab_type": "code",
        "colab": {}
      },
      "cell_type": "code",
      "source": [
        "orders = pd.read_table('http://bit.ly/chiporders')\n",
        "orders.head()"
      ],
      "execution_count": 0,
      "outputs": []
    },
    {
      "metadata": {
        "id": "KjN5OlIsc4WF",
        "colab_type": "code",
        "colab": {}
      },
      "cell_type": "code",
      "source": [
        "# Usando metodo Upper da classe string\n",
        "orders.item_name.str.upper()"
      ],
      "execution_count": 0,
      "outputs": []
    },
    {
      "metadata": {
        "id": "9I1Qm0iddOFa",
        "colab_type": "code",
        "colab": {}
      },
      "cell_type": "code",
      "source": [
        "# Usando metodo contains para filtrar\n",
        "orders[orders.item_name.str.contains('Chicken')]"
      ],
      "execution_count": 0,
      "outputs": []
    },
    {
      "metadata": {
        "id": "c34ZgUMQDB4H",
        "colab_type": "code",
        "colab": {}
      },
      "cell_type": "code",
      "source": [
        "# Removendo colchetes da coluna \"choice_description\"\n",
        "orders.choice_description.str.replace('[', '').str.replace(']', '')"
      ],
      "execution_count": 0,
      "outputs": []
    },
    {
      "metadata": {
        "id": "3wX2wZHHDivn",
        "colab_type": "code",
        "colab": {}
      },
      "cell_type": "code",
      "source": [
        "# Removendo colchetes da coluna \"choice_description\", usando expressão regular\n",
        "orders.choice_description.str.replace('[\\[\\]]', '')"
      ],
      "execution_count": 0,
      "outputs": []
    },
    {
      "metadata": {
        "id": "pbCSgU-6D5QS",
        "colab_type": "text"
      },
      "cell_type": "markdown",
      "source": [
        "# Alterando tipo de dados do DataFrame"
      ]
    },
    {
      "metadata": {
        "id": "_-vl7OYvD8Ui",
        "colab_type": "code",
        "colab": {}
      },
      "cell_type": "code",
      "source": [
        "drinks = pd.read_csv('http://bit.ly/drinksbycountry')\n",
        "drinks.head()"
      ],
      "execution_count": 0,
      "outputs": []
    },
    {
      "metadata": {
        "id": "320Aw2AYEIWD",
        "colab_type": "code",
        "colab": {}
      },
      "cell_type": "code",
      "source": [
        "drinks.dtypes"
      ],
      "execution_count": 0,
      "outputs": []
    },
    {
      "metadata": {
        "id": "MbP4DTFgEJnw",
        "colab_type": "code",
        "colab": {}
      },
      "cell_type": "code",
      "source": [
        "# Converter beer_servings de int para float\n",
        "drinks['beer_servings'] = drinks.beer_servings.astype(float)\n",
        "drinks.dtypes"
      ],
      "execution_count": 0,
      "outputs": []
    },
    {
      "metadata": {
        "id": "l1hKLly0Eaht",
        "colab_type": "code",
        "colab": {}
      },
      "cell_type": "code",
      "source": [
        "# Alterando tipo de dados do DataFrame antes de ler o csv\n",
        "drinks = pd.read_csv('http://bit.ly/drinksbycountry', dtype={'beer_servings': float})\n",
        "drinks.dtypes"
      ],
      "execution_count": 0,
      "outputs": []
    },
    {
      "metadata": {
        "id": "qM407WjMpkfm",
        "colab_type": "code",
        "colab": {}
      },
      "cell_type": "code",
      "source": [
        "orders = pd.read_table('http://bit.ly/chiporders')\n",
        "orders.dtypes"
      ],
      "execution_count": 0,
      "outputs": []
    },
    {
      "metadata": {
        "id": "x770fbkWppkR",
        "colab_type": "code",
        "colab": {}
      },
      "cell_type": "code",
      "source": [
        "# convertendo item_price de object(str) para valor numerico\n",
        "orders.item_price = orders.item_price.str.replace('$','').astype(float)\n",
        "orders.dtypes"
      ],
      "execution_count": 0,
      "outputs": []
    },
    {
      "metadata": {
        "id": "i9dJPnwbqBDj",
        "colab_type": "code",
        "colab": {}
      },
      "cell_type": "code",
      "source": [
        "orders.item_price.head().mean()"
      ],
      "execution_count": 0,
      "outputs": []
    },
    {
      "metadata": {
        "id": "3eag_hC1qaNx",
        "colab_type": "text"
      },
      "cell_type": "markdown",
      "source": [
        ""
      ]
    },
    {
      "metadata": {
        "id": "W61c-vPoqbww",
        "colab_type": "text"
      },
      "cell_type": "markdown",
      "source": [
        "# Agrupando"
      ]
    },
    {
      "metadata": {
        "id": "VxifR8lqqfSg",
        "colab_type": "code",
        "colab": {}
      },
      "cell_type": "code",
      "source": [
        "drinks = pd.read_csv('http://bit.ly/drinksbycountry')\n",
        "drinks.head()"
      ],
      "execution_count": 0,
      "outputs": []
    },
    {
      "metadata": {
        "id": "AFaPC8ZRqpiV",
        "colab_type": "code",
        "colab": {}
      },
      "cell_type": "code",
      "source": [
        "# Media de consumo de cerveja (de todos os paises)\n",
        "drinks.beer_servings.mean()"
      ],
      "execution_count": 0,
      "outputs": []
    },
    {
      "metadata": {
        "id": "rFf6VjCTq1de",
        "colab_type": "code",
        "colab": {}
      },
      "cell_type": "code",
      "source": [
        "# Tirando a média por continente\n",
        "drinks.groupby('continent').beer_servings.mean()"
      ],
      "execution_count": 0,
      "outputs": []
    },
    {
      "metadata": {
        "id": "fHZUVprPrE6f",
        "colab_type": "code",
        "colab": {}
      },
      "cell_type": "code",
      "source": [
        "# Triando a média de um dos continentes usando filtro\n",
        "drinks[drinks.continent=='Africa'].beer_servings.mean()"
      ],
      "execution_count": 0,
      "outputs": []
    },
    {
      "metadata": {
        "id": "WDMQeywEreRB",
        "colab_type": "code",
        "colab": {}
      },
      "cell_type": "code",
      "source": [
        "# Maior consumo de bebida por continente\n",
        "drinks.groupby('continent').beer_servings.max()"
      ],
      "execution_count": 0,
      "outputs": []
    },
    {
      "metadata": {
        "id": "EA1Bk8Bnr9WM",
        "colab_type": "code",
        "colab": {}
      },
      "cell_type": "code",
      "source": [
        "# Varias funções de agregação na mesma consulta\n",
        "drinks.groupby('continent').beer_servings.agg(['count', 'min', 'max', 'mean', 'sum'])"
      ],
      "execution_count": 0,
      "outputs": []
    },
    {
      "metadata": {
        "id": "g7IT8hgfsORX",
        "colab_type": "code",
        "colab": {}
      },
      "cell_type": "code",
      "source": [
        "# Calculando a media de todas as colunas \n",
        "drinks.groupby('continent').mean()"
      ],
      "execution_count": 0,
      "outputs": []
    },
    {
      "metadata": {
        "id": "2i1p4OhTtsiv",
        "colab_type": "text"
      },
      "cell_type": "markdown",
      "source": [
        "# Gerando um gráfico simples de barras"
      ]
    },
    {
      "metadata": {
        "id": "kK75NP3_tx7D",
        "colab_type": "code",
        "colab": {}
      },
      "cell_type": "code",
      "source": [
        "drinks = pd.read_csv('http://bit.ly/drinksbycountry')"
      ],
      "execution_count": 0,
      "outputs": []
    },
    {
      "metadata": {
        "id": "cXPZWl6PtzyZ",
        "colab_type": "code",
        "colab": {}
      },
      "cell_type": "code",
      "source": [
        "%matplotlib inline"
      ],
      "execution_count": 0,
      "outputs": []
    },
    {
      "metadata": {
        "id": "Oi8Cd3N2t2Y_",
        "colab_type": "code",
        "colab": {}
      },
      "cell_type": "code",
      "source": [
        "drinks.groupby('continent').mean().plot(kind='bar')"
      ],
      "execution_count": 0,
      "outputs": []
    },
    {
      "metadata": {
        "id": "rPjc91wpt8Nb",
        "colab_type": "code",
        "colab": {}
      },
      "cell_type": "code",
      "source": [
        ""
      ],
      "execution_count": 0,
      "outputs": []
    }
  ]
}